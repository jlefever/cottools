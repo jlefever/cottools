{
 "cells": [
  {
   "cell_type": "code",
   "execution_count": 1,
   "metadata": {},
   "outputs": [],
   "source": [
    "from collections import Counter\n",
    "\n",
    "from cottools.filesolver import FileRepo"
   ]
  },
  {
   "cell_type": "code",
   "execution_count": 2,
   "metadata": {},
   "outputs": [
    {
     "name": "stdout",
     "output_type": "stream",
     "text": [
      "Cloning into '_repos/activemq'...\n",
      "remote: Enumerating objects: 243657, done.\u001b[K\n",
      "remote: Counting objects: 100% (543/543), done.\u001b[K\n",
      "remote: Compressing objects: 100% (165/165), done.\u001b[K\n",
      "remote: Total 243657 (delta 463), reused 378 (delta 378), pack-reused 243114 (from 3)\u001b[K\n",
      "Receiving objects: 100% (243657/243657), 63.26 MiB | 42.04 MiB/s, done.\n",
      "Resolving deltas: 100% (117839/117839), done.\n",
      "Updating files: 100% (5347/5347), done.\n"
     ]
    }
   ],
   "source": [
    "# Clone \"activemq\" to \"_repos/activemq\". You can comment this out if its already cloned.\n",
    "! git clone https://github.com/apache/activemq _repos/activemq"
   ]
  },
  {
   "cell_type": "code",
   "execution_count": 3,
   "metadata": {},
   "outputs": [
    {
     "name": "stdout",
     "output_type": "stream",
     "text": [
      "Total edges:  10916\n",
      "Used edges:   10892\n",
      "Unused edges: 24\n",
      "Total edges:  158\n",
      "Used edges:   156\n",
      "Unused edges: 2\n",
      "Done\n"
     ]
    }
   ],
   "source": [
    "repo = FileRepo.parse_log(\"_repos/activemq\", \"refs/tags/activemq-5.18.1\")"
   ]
  },
  {
   "cell_type": "code",
   "execution_count": 4,
   "metadata": {},
   "outputs": [],
   "source": [
    "# repo.dump(\"_pickles/activemq.pkl\")\n",
    "# repo = Repo.load(\"_pickles/activemq.pkl\")"
   ]
  },
  {
   "cell_type": "code",
   "execution_count": 5,
   "metadata": {},
   "outputs": [
    {
     "name": "stdout",
     "output_type": "stream",
     "text": [
      "activemq-broker/src/main/java/org/apache/activemq/broker/region/Queue.java: 377, 133\n",
      "activemq-broker/src/main/java/org/apache/activemq/broker/BrokerService.java: 357, 100\n",
      "activemq-kahadb-store/src/main/java/org/apache/activemq/store/kahadb/MessageDatabase.java: 244, 129\n",
      "activemq-broker/src/main/java/org/apache/activemq/network/DemandForwardingBridgeSupport.java: 212, 77\n",
      "activemq-broker/src/main/java/org/apache/activemq/broker/TransportConnection.java: 207, 62\n",
      "activemq-broker/src/main/java/org/apache/activemq/broker/region/PrefetchSubscription.java: 196, 42\n",
      "activemq-client/src/main/java/org/apache/activemq/ActiveMQConnection.java: 195, 44\n",
      "activemq-client/src/main/java/org/apache/activemq/ActiveMQMessageConsumer.java: 182, 49\n",
      "activemq-broker/src/main/java/org/apache/activemq/broker/region/Topic.java: 178, 43\n",
      "activemq-client/src/main/java/org/apache/activemq/transport/failover/FailoverTransport.java: 163, 38\n",
      "activemq-broker/src/main/java/org/apache/activemq/broker/region/RegionBroker.java: 161, 39\n",
      "activemq-kahadb-store/src/main/java/org/apache/activemq/store/kahadb/KahaDBStore.java: 130, 54\n",
      "activemq-client/src/main/java/org/apache/activemq/ActiveMQSession.java: 124, 35\n",
      "activemq-amqp/src/main/java/org/apache/activemq/transport/amqp/AmqpProtocolConverter.java: 114, 114\n",
      "activemq-broker/src/main/java/org/apache/activemq/broker/region/TopicSubscription.java: 113, 38\n"
     ]
    }
   ],
   "source": [
    "latest_commit = repo.latest_commit()\n",
    "table = repo.file_table(latest_commit)\n",
    "\n",
    "changes_raw: Counter[str] = Counter()\n",
    "changes_renames: Counter[str] = Counter()\n",
    "\n",
    "for name in sorted(table.keys()):\n",
    "    file_id = table[name]\n",
    "    if not name.lower().endswith(\".java\"):\n",
    "        continue\n",
    "    changes_raw[name] = len(repo.changes_by_name(name))\n",
    "    changes_renames[name] = len(repo.changes_by_id(file_id))\n",
    "\n",
    "for name, count in changes_renames.most_common(15):\n",
    "    print(f\"{name}: {count}, {changes_raw[name]}\")"
   ]
  },
  {
   "cell_type": "code",
   "execution_count": 6,
   "metadata": {},
   "outputs": [
    {
     "name": "stdout",
     "output_type": "stream",
     "text": [
      "44\n",
      "195\n"
     ]
    }
   ],
   "source": [
    "name = \"activemq-client/src/main/java/org/apache/activemq/ActiveMQConnection.java\"\n",
    "file_id = repo.file_id_by_name(repo.latest_commit(), name)\n",
    "\n",
    "print(len(repo.changes_by_name(name)))\n",
    "print(len(repo.changes_by_id(file_id)))"
   ]
  },
  {
   "cell_type": "code",
   "execution_count": 7,
   "metadata": {},
   "outputs": [
    {
     "data": {
      "text/plain": [
       "'activemq-core/src/main/java/org/activemq/ActiveMQConnection.java'"
      ]
     },
     "execution_count": 7,
     "metadata": {},
     "output_type": "execute_result"
    }
   ],
   "source": [
    "repo.file_name_by_id(repo.changes_by_id(file_id)[0], file_id)"
   ]
  },
  {
   "cell_type": "code",
   "execution_count": 8,
   "metadata": {},
   "outputs": [
    {
     "name": "stdout",
     "output_type": "stream",
     "text": [
      "{'activemq-client/src/main/java/org/apache/activemq/ActiveMQConnection.java', 'activemq-core/src/main/java/org/apache/activemq/ActiveMQConnection.java', 'activemq-core/src/main/java/org/activemq/ActiveMQConnection.java'}\n"
     ]
    }
   ],
   "source": [
    "names: set[str] = set()\n",
    "\n",
    "for commit in repo.commits_by_id(file_id):\n",
    "    names.add(repo.file_name_by_id(commit, file_id))\n",
    "\n",
    "print(names)"
   ]
  },
  {
   "cell_type": "code",
   "execution_count": null,
   "metadata": {},
   "outputs": [],
   "source": []
  }
 ],
 "metadata": {
  "kernelspec": {
   "display_name": ".venv",
   "language": "python",
   "name": "python3"
  },
  "language_info": {
   "codemirror_mode": {
    "name": "ipython",
    "version": 3
   },
   "file_extension": ".py",
   "mimetype": "text/x-python",
   "name": "python",
   "nbconvert_exporter": "python",
   "pygments_lexer": "ipython3",
   "version": "3.11.10"
  }
 },
 "nbformat": 4,
 "nbformat_minor": 2
}
