{
 "cells": [
  {
   "cell_type": "code",
   "execution_count": 1,
   "metadata": {},
   "outputs": [],
   "source": [
    "import git\n",
    "import pickle\n",
    "from cottools.scc import collect_scc, SccData\n",
    "from cottools.filesolver import NameRepo"
   ]
  },
  {
   "cell_type": "code",
   "execution_count": 2,
   "metadata": {},
   "outputs": [
    {
     "name": "stderr",
     "output_type": "stream",
     "text": [
      "100%|██████████| 15066/15066 [00:11<00:00, 1367.63it/s]\n",
      "100%|██████████| 68806/68806 [00:13<00:00, 5131.44it/s]\n"
     ]
    }
   ],
   "source": [
    "scc_data = collect_scc(\"_repos/activemq\")\n",
    "\n",
    "# with open(\"_pickles/activemq_scc.pkl\", \"wb\") as f:\n",
    "#     pickle.dump(scc_data, f)\n",
    "\n",
    "# with open(\"_pickles/activemq_scc.pkl\", \"rb\") as f:\n",
    "#     scc_data: dict[str, SccData] = pickle.load(f)"
   ]
  },
  {
   "cell_type": "code",
   "execution_count": 3,
   "metadata": {},
   "outputs": [
    {
     "name": "stdout",
     "output_type": "stream",
     "text": [
      "Total edges:  10970\n",
      "Used edges:   10912\n",
      "Unused edges: 58\n",
      "Total edges:  158\n",
      "Used edges:   156\n",
      "Unused edges: 2\n",
      "Done\n"
     ]
    }
   ],
   "source": [
    "file_repo = NameRepo.parse_log(\"_repos/activemq\", \"HEAD\")\n",
    "# file_repo.dump(\"_pickles/activemq.pkl\")\n",
    "# file_repo = FileRepo.load(\"_pickles/activemq.pkl\")"
   ]
  },
  {
   "cell_type": "code",
   "execution_count": 4,
   "metadata": {},
   "outputs": [
    {
     "name": "stdout",
     "output_type": "stream",
     "text": [
      "40\n",
      "165\n"
     ]
    }
   ],
   "source": [
    "# name = \"activemq-client/src/main/java/org/apache/activemq/ActiveMQConnection.java\"\n",
    "# name = \"activemq-client/src/main/java/org/apache/activemq/ActiveMQMessageConsumer.java\"\n",
    "name = \"activemq-client/src/main/java/org/apache/activemq/transport/failover/FailoverTransport.java\"\n",
    "file_id = file_repo.file_id_by_name(file_repo.latest_commit(), name)\n",
    "\n",
    "print(len(file_repo.changes_by_name(name)))\n",
    "print(len(file_repo.changes_by_id(file_id)))"
   ]
  },
  {
   "cell_type": "code",
   "execution_count": 5,
   "metadata": {},
   "outputs": [
    {
     "data": {
      "text/plain": [
       "164"
      ]
     },
     "execution_count": 5,
     "metadata": {},
     "output_type": "execute_result"
    }
   ],
   "source": [
    "changes = file_repo.changes_by_id(file_id)\n",
    "len(changes)\n",
    "cont_changes = file_repo.cont_changes_by_id(file_id)\n",
    "len(cont_changes)"
   ]
  },
  {
   "cell_type": "code",
   "execution_count": 6,
   "metadata": {},
   "outputs": [],
   "source": [
    "repo = git.Repo(\"_repos/activemq\", odbt=git.GitCmdObjectDB)"
   ]
  },
  {
   "cell_type": "code",
   "execution_count": null,
   "metadata": {},
   "outputs": [
    {
     "name": "stdout",
     "output_type": "stream",
     "text": [
      "1343\n",
      "1345\n",
      "1339\n",
      "1374\n",
      "1382\n",
      "1382\n",
      "1386\n",
      "1401\n",
      "1413\n",
      "1413\n",
      "1414\n",
      "1450\n",
      "1447\n",
      "1447\n",
      "1447\n",
      "1452\n",
      "1452\n",
      "1462\n",
      "1455\n",
      "1456\n",
      "1465\n",
      "1471\n",
      "1471\n",
      "1472\n",
      "1480\n",
      "1474\n",
      "1451\n",
      "1451\n",
      "1477\n",
      "1477\n",
      "1477\n",
      "1477\n",
      "1479\n",
      "1477\n",
      "1482\n",
      "1487\n",
      "1491\n",
      "1491\n",
      "1493\n"
     ]
    }
   ],
   "source": [
    "for rev in file_repo.cont_changes_by_id(file_id):\n",
    "    file_name = file_repo.file_name_by_id(rev, file_id)\n",
    "    obj = repo.commit(rev).tree.join(file_name)\n",
    "    if not isinstance(obj, git.Blob):\n",
    "        raise RuntimeError\n",
    "    print(scc_data[obj.hexsha].loc)"
   ]
  },
  {
   "cell_type": "code",
   "execution_count": null,
   "metadata": {},
   "outputs": [],
   "source": []
  }
 ],
 "metadata": {
  "kernelspec": {
   "display_name": ".venv",
   "language": "python",
   "name": "python3"
  },
  "language_info": {
   "codemirror_mode": {
    "name": "ipython",
    "version": 3
   },
   "file_extension": ".py",
   "mimetype": "text/x-python",
   "name": "python",
   "nbconvert_exporter": "python",
   "pygments_lexer": "ipython3",
   "version": "3.12.6"
  }
 },
 "nbformat": 4,
 "nbformat_minor": 2
}
