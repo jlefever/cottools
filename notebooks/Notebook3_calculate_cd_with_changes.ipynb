{
 "cells": [
  {
   "cell_type": "code",
   "execution_count": 17,
   "metadata": {},
   "outputs": [],
   "source": [
    "import git\n",
    "import pickle\n",
    "from cottools.scc import collect_scc, SccData\n",
    "from cottools.filesolver import NameRepo\n",
    "# This import will be slow... Needs to be fixed.\n",
    "from concernbert.frontend import CdCalculator\n",
    "import csv\n",
    "from datetime import datetime"
   ]
  },
  {
   "cell_type": "code",
   "execution_count": 18,
   "metadata": {},
   "outputs": [],
   "source": [
    "def load_bytes(repo: git.Repo, hexsha: str) -> bytes:\n",
    "    return repo.odb.stream(bytes.fromhex(hexsha)).read()  # type: ignore"
   ]
  },
  {
   "cell_type": "code",
   "execution_count": 19,
   "metadata": {},
   "outputs": [
    {
     "name": "stderr",
     "output_type": "stream",
     "text": [
      "huggingface/tokenizers: The current process just got forked, after parallelism has already been used. Disabling parallelism to avoid deadlocks...\n",
      "To disable this warning, you can either:\n",
      "\t- Avoid using `tokenizers` before the fork if possible\n",
      "\t- Explicitly set the environment variable TOKENIZERS_PARALLELISM=(true | false)\n",
      "huggingface/tokenizers: The current process just got forked, after parallelism has already been used. Disabling parallelism to avoid deadlocks...\n",
      "To disable this warning, you can either:\n",
      "\t- Avoid using `tokenizers` before the fork if possible\n",
      "\t- Explicitly set the environment variable TOKENIZERS_PARALLELISM=(true | false)\n",
      "huggingface/tokenizers: The current process just got forked, after parallelism has already been used. Disabling parallelism to avoid deadlocks...\n",
      "To disable this warning, you can either:\n",
      "\t- Avoid using `tokenizers` before the fork if possible\n",
      "\t- Explicitly set the environment variable TOKENIZERS_PARALLELISM=(true | false)\n",
      "100%|██████████| 15066/15066 [00:10<00:00, 1493.50it/s]\n",
      "100%|██████████| 68806/68806 [00:12<00:00, 5376.92it/s]\n",
      "huggingface/tokenizers: The current process just got forked, after parallelism has already been used. Disabling parallelism to avoid deadlocks...\n",
      "To disable this warning, you can either:\n",
      "\t- Avoid using `tokenizers` before the fork if possible\n",
      "\t- Explicitly set the environment variable TOKENIZERS_PARALLELISM=(true | false)\n"
     ]
    }
   ],
   "source": [
    "scc_data = collect_scc(\"_repos/activemq\")\n",
    "\n",
    "# with open(\"_pickles/activemq_scc.pkl\", \"wb\") as f:\n",
    "#     pickle.dump(scc_data, f)\n",
    "\n",
    "# with open(\"_pickles/activemq_scc.pkl\", \"rb\") as f:\n",
    "#     scc_data: dict[str, SccData] = pickle.load(f)"
   ]
  },
  {
   "cell_type": "code",
   "execution_count": 20,
   "metadata": {},
   "outputs": [],
   "source": [
    "#file_repo = NameRepo.parse_log(\"_repos/activemq\", \"HEAD\")\n",
    "# file_repo.dump(\"_pickles/activemq.pkl\")\n",
    "file_repo = NameRepo.load(\"_pickles/activemq.pkl\")"
   ]
  },
  {
   "cell_type": "code",
   "execution_count": 21,
   "metadata": {},
   "outputs": [
    {
     "name": "stdout",
     "output_type": "stream",
     "text": [
      "38\n",
      "163\n"
     ]
    }
   ],
   "source": [
    "# name = \"activemq-client/src/main/java/org/apache/activemq/ActiveMQConnection.java\"\n",
    "# name = \"activemq-client/src/main/java/org/apache/activemq/ActiveMQMessageConsumer.java\"\n",
    "name = \"activemq-client/src/main/java/org/apache/activemq/transport/failover/FailoverTransport.java\"\n",
    "file_id = file_repo.file_id_by_name(file_repo.latest_commit(), name)\n",
    "\n",
    "print(len(file_repo.changes_by_name(name)))\n",
    "print(len(file_repo.changes_by_id(file_id)))"
   ]
  },
  {
   "cell_type": "code",
   "execution_count": 22,
   "metadata": {},
   "outputs": [
    {
     "data": {
      "text/plain": [
       "162"
      ]
     },
     "execution_count": 22,
     "metadata": {},
     "output_type": "execute_result"
    }
   ],
   "source": [
    "changes = file_repo.changes_by_id(file_id)\n",
    "len(changes)\n",
    "cont_changes = file_repo.cont_changes_by_id(file_id)\n",
    "len(cont_changes)"
   ]
  },
  {
   "cell_type": "code",
   "execution_count": 23,
   "metadata": {},
   "outputs": [],
   "source": [
    "repo = git.Repo(\"_repos/activemq\", odbt=git.GitCmdObjectDB)"
   ]
  },
  {
   "cell_type": "code",
   "execution_count": 24,
   "metadata": {},
   "outputs": [],
   "source": [
    "cd_calculator = CdCalculator(\"_models/EntityBERT-v3_train_nonldl-lr5e5-2_83-e3\", \"_cache\")"
   ]
  },
  {
   "cell_type": "code",
   "execution_count": null,
   "metadata": {},
   "outputs": [
    {
     "name": "stdout",
     "output_type": "stream",
     "text": [
      "1.1965821361022442\n",
      "1.1965648326329785\n",
      "1.1981610031317613\n",
      "1.1981610031317613\n",
      "1.1981610031317613\n",
      "1.1981610031317613\n",
      "1.4244272138061094\n",
      "1.4169559369541131\n",
      "1.4139125385737124\n",
      "1.4140588399641154\n",
      "1.4147133322186742\n",
      "1.4145100400182824\n",
      "1.414046973053913\n",
      "1.415160796637347\n",
      "1.4150251368511644\n",
      "1.414823143676729\n",
      "1.4145459456767533\n",
      "1.4121234706549575\n",
      "1.4098508329202004\n",
      "1.4160221198681953\n",
      "1.4163610718928883\n",
      "1.4166578890199513\n",
      "1.35906298877772\n",
      "1.3585260100367946\n",
      "1.3584922198146556\n",
      "1.3584494055421312\n",
      "1.3591755046567067\n",
      "1.3592264427492333\n",
      "1.3592264427492333\n",
      "1.3590699621285236\n",
      "1.3154233669965791\n",
      "1.3183110956484922\n",
      "1.3137782990139923\n",
      "1.3183110956484922\n",
      "1.3120946488718315\n",
      "1.322585375457223\n",
      "1.322585375457223\n",
      "1.3225896978492613\n",
      "1.3174090544298591\n",
      "1.3180920153195939\n",
      "1.3180920153195939\n",
      "1.335306234518368\n",
      "1.335306234518368\n",
      "1.3340152183111784\n",
      "1.3353674370590438\n",
      "1.3354932589583104\n",
      "1.3346339369429852\n",
      "1.333892381717487\n",
      "1.346269777121638\n",
      "1.3464006853609465\n",
      "1.3487328026601721\n",
      "1.3439283804285092\n",
      "1.347077531333274\n",
      "1.347077531333274\n",
      "1.3869840174437416\n",
      "1.387017488409997\n",
      "1.3870234530112417\n",
      "1.3875545810748522\n",
      "1.3870877472372751\n",
      "1.3871210578029418\n",
      "1.3872472055933311\n",
      "1.3875300107217345\n",
      "1.3972907406661081\n",
      "1.3973138400307363\n",
      "1.3984593659437927\n",
      "1.3979420450534512\n",
      "1.397728065758731\n",
      "1.355207465448442\n",
      "1.356174081259066\n",
      "1.3568535862800855\n",
      "1.3564957455240654\n",
      "1.387306262486834\n",
      "1.3896228457945177\n",
      "1.3896228459265356\n",
      "1.3888324762484046\n",
      "1.3878119807150944\n",
      "1.387755529929221\n",
      "1.3877634590826098\n",
      "1.3878693970588727\n",
      "1.387678054607099\n",
      "1.387678054607099\n",
      "1.387753783788343\n",
      "1.3863218621122524\n",
      "1.3863218618550954\n",
      "1.3873192566899677\n",
      "1.3888312909269172\n",
      "1.3885163784259555\n",
      "1.3880332588680249\n",
      "1.3879164964081103\n",
      "1.3878191924396648\n",
      "1.324531669780694\n",
      "1.3220663071582064\n",
      "1.3386128822423502\n"
     ]
    },
    {
     "ename": "KeyboardInterrupt",
     "evalue": "",
     "output_type": "error",
     "traceback": [
      "\u001b[0;31m---------------------------------------------------------------------------\u001b[0m",
      "\u001b[0;31mKeyboardInterrupt\u001b[0m                         Traceback (most recent call last)",
      "Cell \u001b[0;32mIn[29], line 13\u001b[0m\n\u001b[1;32m     11\u001b[0m content \u001b[38;5;241m=\u001b[39m load_bytes(repo,obj\u001b[38;5;241m.\u001b[39mhexsha)\n\u001b[1;32m     12\u001b[0m source \u001b[38;5;241m=\u001b[39m content\u001b[38;5;241m.\u001b[39mdecode()\n\u001b[0;32m---> 13\u001b[0m cd \u001b[38;5;241m=\u001b[39m \u001b[43mcd_calculator\u001b[49m\u001b[38;5;241;43m.\u001b[39;49m\u001b[43mcalc_cd\u001b[49m\u001b[43m(\u001b[49m\u001b[43msource\u001b[49m\u001b[43m,\u001b[49m\u001b[43m \u001b[49m\u001b[43mpbar\u001b[49m\u001b[38;5;241;43m=\u001b[39;49m\u001b[38;5;28;43;01mFalse\u001b[39;49;00m\u001b[43m)\u001b[49m\n\u001b[1;32m     14\u001b[0m \u001b[38;5;28mprint\u001b[39m(cd\u001b[38;5;241m.\u001b[39minter_cd)\n\u001b[1;32m     15\u001b[0m \u001b[38;5;66;03m# print(\"Im HERE \")\u001b[39;00m\n\u001b[1;32m     16\u001b[0m \u001b[38;5;66;03m# print(\"Im HERE \")\u001b[39;00m\n\u001b[1;32m     17\u001b[0m \u001b[38;5;66;03m# print(\"Im HERE \")\u001b[39;00m\n\u001b[1;32m     18\u001b[0m \u001b[38;5;66;03m# print(source)\u001b[39;00m\n\u001b[1;32m     19\u001b[0m \u001b[38;5;66;03m#cd_calculator.calc_cd(source, pbar=True)\u001b[39;00m\n",
      "File \u001b[0;32m~/Documents/Drexel /Research/git/cottools/.venv/lib/python3.12/site-packages/concernbert/frontend.py:23\u001b[0m, in \u001b[0;36mcalc_cd\u001b[0;34m(self, source, pbar)\u001b[0m\n\u001b[1;32m     20\u001b[0m \u001b[38;5;28;01mdef\u001b[39;00m\u001b[38;5;250m \u001b[39m\u001b[38;5;21m__init__\u001b[39m(\u001b[38;5;28mself\u001b[39m, model: \u001b[38;5;28mstr\u001b[39m, cache_dir: \u001b[38;5;28mstr\u001b[39m, batch_size: \u001b[38;5;28mint\u001b[39m \u001b[38;5;241m=\u001b[39m \u001b[38;5;241m24\u001b[39m):\n\u001b[1;32m     21\u001b[0m     \u001b[38;5;28mself\u001b[39m\u001b[38;5;241m.\u001b[39m_embedder \u001b[38;5;241m=\u001b[39m load_caching_embedder(model, cache_dir, batch_size)\n\u001b[0;32m---> 23\u001b[0m \u001b[38;5;28;01mdef\u001b[39;00m\u001b[38;5;250m \u001b[39m\u001b[38;5;21mcalc_cd\u001b[39m(\u001b[38;5;28mself\u001b[39m, source: \u001b[38;5;28mstr\u001b[39m, \u001b[38;5;241m*\u001b[39m, pbar: \u001b[38;5;28mbool\u001b[39m \u001b[38;5;241m=\u001b[39m \u001b[38;5;28;01mFalse\u001b[39;00m) \u001b[38;5;241m-\u001b[39m\u001b[38;5;241m>\u001b[39m CdResult:\n\u001b[1;32m     24\u001b[0m     res \u001b[38;5;241m=\u001b[39m find_entity_docs(source)\n\u001b[1;32m     25\u001b[0m     texts \u001b[38;5;241m=\u001b[39m \u001b[38;5;28mlist\u001b[39m(it\u001b[38;5;241m.\u001b[39mchain(\u001b[38;5;241m*\u001b[39mres\u001b[38;5;241m.\u001b[39mvalues()))\n",
      "File \u001b[0;32m~/Documents/Drexel /Research/git/cottools/.venv/lib/python3.12/site-packages/concernbert/semantic.py:293\u001b[0m, in \u001b[0;36mfind_entity_docs\u001b[0;34m(content)\u001b[0m\n\u001b[1;32m    291\u001b[0m captures \u001b[38;5;241m=\u001b[39m _find_captures(content_bytes)\n\u001b[1;32m    292\u001b[0m nodes \u001b[38;5;241m=\u001b[39m [c\u001b[38;5;241m.\u001b[39mnode \u001b[38;5;28;01mfor\u001b[39;00m c \u001b[38;5;129;01min\u001b[39;00m captures\u001b[38;5;241m.\u001b[39mvalues()]\n\u001b[0;32m--> 293\u001b[0m parents \u001b[38;5;241m=\u001b[39m \u001b[43m_calculate_parents_dict\u001b[49m\u001b[43m(\u001b[49m\u001b[43mnodes\u001b[49m\u001b[43m)\u001b[49m\n\u001b[1;32m    294\u001b[0m children \u001b[38;5;241m=\u001b[39m _to_children_dict(parents)\n\u001b[1;32m    296\u001b[0m \u001b[38;5;66;03m# A \"top\" is a node that contains at least one entity\u001b[39;00m\n",
      "File \u001b[0;32m~/Documents/Drexel /Research/git/cottools/.venv/lib/python3.12/site-packages/concernbert/semantic.py:143\u001b[0m, in \u001b[0;36m_calculate_parents_dict\u001b[0;34m(nodes)\u001b[0m\n\u001b[1;32m    141\u001b[0m \u001b[38;5;28;01mfor\u001b[39;00m node_a, node_b \u001b[38;5;129;01min\u001b[39;00m it\u001b[38;5;241m.\u001b[39mcombinations(nodes, \u001b[38;5;241m2\u001b[39m):\n\u001b[1;32m    142\u001b[0m     \u001b[38;5;28;01mif\u001b[39;00m (lineage \u001b[38;5;241m:=\u001b[39m _determine_lineage(node_a, node_b)) \u001b[38;5;129;01mis\u001b[39;00m \u001b[38;5;28;01mNone\u001b[39;00m:\n\u001b[0;32m--> 143\u001b[0m         \u001b[38;5;28;01mcontinue\u001b[39;00m\n\u001b[1;32m    144\u001b[0m     ancestor, descendant \u001b[38;5;241m=\u001b[39m lineage\n\u001b[1;32m    145\u001b[0m     current_parent \u001b[38;5;241m=\u001b[39m parents\u001b[38;5;241m.\u001b[39mget(descendant, \u001b[38;5;28;01mNone\u001b[39;00m)\n",
      "\u001b[0;31mKeyboardInterrupt\u001b[0m: "
     ]
    }
   ],
   "source": [
    "with open(f\"activemq-{file_id}.csv\", mode='w', newline='', encoding='utf-8') as file:\n",
    "        writer = csv.writer(file)\n",
    "# Write CSV header\n",
    "        writer.writerow(['commit', 'commit_date', 'author_date', 'path', 'loc', 'lloc', 'comments', 'blanks', 'entities', 'inter_cd', 'intra_cd', 'cc'])\n",
    "        for rev in file_repo.cont_changes_by_id(file_id):\n",
    "            file_name = file_repo.file_name_by_id(rev, file_id)\n",
    "            commit = repo.commit(rev)\n",
    "            obj = commit.tree.join(file_name)\n",
    "            if not isinstance(obj, git.Blob):\n",
    "                raise RuntimeError\n",
    "            content = load_bytes(repo,obj.hexsha)\n",
    "            source = content.decode()\n",
    "            cd = cd_calculator.calc_cd(source, pbar=False)\n",
    "            print(cd.inter_cd)\n",
    "            # print(\"Im HERE \")\n",
    "            # print(\"Im HERE \")\n",
    "            # print(\"Im HERE \")\n",
    "            # print(source)\n",
    "            #cd_calculator.calc_cd(source, pbar=True)\n",
    "            loc = scc_data[obj.hexsha].loc\n",
    "            blanks = scc_data[obj.hexsha].blanks\n",
    "            complexity = scc_data[obj.hexsha].complexity\n",
    "            # Now you can integrate this data into your CSV writing process:\n",
    "            # Now integrate this data into your CSV writing process:\n",
    "            writer.writerow([\n",
    "                commit.hexsha,  # Commit Hash\n",
    "                commit.committed_datetime,\n",
    "                commit.authored_datetime,\n",
    "                file_name,  # File Path\n",
    "                loc,  # LOC (Lines of Code)\n",
    "                loc,  # LLOC (Logical Lines of Code)\n",
    "                commit.message.strip(),  # Comments\n",
    "                blanks,  # Blanks \n",
    "                cd.inter_cd,  # Inter CD (from CD calculation)\n",
    "                cd.intra_cd,  # Intra CD (from CD calculation)\n",
    "                complexity  # Complexity (CC - Cyclomatic Complexity)\n",
    "            ])"
   ]
  },
  {
   "cell_type": "code",
   "execution_count": null,
   "metadata": {},
   "outputs": [],
   "source": []
  }
 ],
 "metadata": {
  "kernelspec": {
   "display_name": ".venv",
   "language": "python",
   "name": "python3"
  },
  "language_info": {
   "codemirror_mode": {
    "name": "ipython",
    "version": 3
   },
   "file_extension": ".py",
   "mimetype": "text/x-python",
   "name": "python",
   "nbconvert_exporter": "python",
   "pygments_lexer": "ipython3",
   "version": "3.12.6"
  }
 },
 "nbformat": 4,
 "nbformat_minor": 2
}
